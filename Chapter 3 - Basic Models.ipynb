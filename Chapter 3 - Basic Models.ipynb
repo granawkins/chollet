{
 "cells": [
  {
   "cell_type": "markdown",
   "id": "11a2be9e",
   "metadata": {},
   "source": [
    "Model development process:\n",
    "1. Choose the appropriate type of model: Binary Classification, Multiclass Classification or Regression\n",
    "2. Preprocess the data; vectorize\n",
    "2. Experiment with hyperparameters. Create a validation subset of the training data to monitor/prevent overfitting\n",
    "3. Train the model using ideal parameters with complete training data set and test against test set.\n",
    "\n",
    "### Model Parameters\n",
    "Layers:\n",
    "- **# Hidden Layers**. Number of layers between input and output layers.\n",
    "- **# Hidden Units**. Dimensionality of layer weights; should not be less than the dimension of the output data.\n",
    "- **Activation Function**. Provides non-linearity to the model.\n",
    "  - 'relu' common for hidden layers; 'tanh' is an alternative\n",
    "  - 'sigmoid' used for binary classification, produces probability distribution 0 <= N <= 1.\n",
    "  - 'softmax' used for multiclass classification, produces a vector of probabilities that sums to 1.\n",
    "  - For regression models, use a Dense layer with 1 hidden units and no activation function\n",
    "  \n",
    "Compile:\n",
    "- **Optimizer**. How the model is trained. 'rmsprop' (root mean squared propogation, gradient descent) is the most common.\n",
    "- **Loss**. Depends on the type of model:\n",
    "  - 'binary_crossentropy': Use for binary classification\n",
    "  - 'categorical_crossentropy': Use for multiclass classification when results is a one-hot vector\n",
    "  - 'sparse_categorical_crossentropy': Use for multiclass classification when results are integers\n",
    "  - 'mse': Use for regression\n",
    "- **Metrics**.\n",
    "  - 'accuracy': Used for classification models\n",
    "  - 'mean_absolute_error': Used for regression models\n",
    "\n",
    "Fitting:\n",
    "- **Epochs**. How many times to train on the whole training dataset\n",
    "- **Batch Size**. How many samples to include in each pass; usually an exponent of 2, e.g. 128\n",
    "- **Validation_data**. A dataset that is not used for training, but tested after each epoch. Used to detect overfit."
   ]
  },
  {
   "cell_type": "markdown",
   "id": "2cae920d",
   "metadata": {},
   "source": [
    "# Binary Classification"
   ]
  },
  {
   "cell_type": "code",
   "execution_count": 1,
   "id": "db0423e8",
   "metadata": {},
   "outputs": [
    {
     "name": "stderr",
     "output_type": "stream",
     "text": [
      "2022-03-02 11:13:51.039568: I tensorflow/core/platform/cpu_feature_guard.cc:151] This TensorFlow binary is optimized with oneAPI Deep Neural Network Library (oneDNN) to use the following CPU instructions in performance-critical operations:  AVX2 FMA\n",
      "To enable them in other operations, rebuild TensorFlow with the appropriate compiler flags.\n"
     ]
    },
    {
     "data": {
      "image/png": "[encoded data removed]",
      "text/plain": [
       "<Figure size 432x288 with 1 Axes>"
      ]
     },
     "metadata": {
      "needs_background": "light"
     },
     "output_type": "display_data"
    }
   ],
   "source": [
    "'''\n",
    "Load data (~80MB). IMDB reviews which are classified as positive or negative\n",
    "Samples include the most common 10_000 words, converted to an index\n",
    "'''\n",
    "from keras.datasets import imdb\n",
    "\n",
    "(train_data, train_labels), (test_data, test_labels) = imdb.load_data(num_words=10000)\n",
    "# print(len(train_data)) # >>> 25000\n",
    "# print(train_data[0][:10], len(train_data[0])) # >>> [1, 14, 22, 16, 43, 530, 973, 1622, 1385, 65]\n",
    "# print(len(train_data[0])) # >>> 218\n",
    "# print(train_labels[0]) # >>> 1\n",
    "\n",
    "'''\n",
    "Convert sequences of word indexes to vectors of all words included.\n",
    "e.g. [0, 3, 1, 6] -> [1., 1., 0, 1., 0., 0., 1., 0., 0., 0.]\n",
    "'''\n",
    "import numpy as np\n",
    "\n",
    "def vectorize_sequences(sequences, dimension=10000):\n",
    "    \"\"\"Convert samples from a number to a vector that matches its index\"\"\"\n",
    "    results = np.zeros((len(sequences), dimension))\n",
    "    for i, sequence in enumerate(sequences):\n",
    "        results[i, sequence] = 1.\n",
    "    return results\n",
    "\n",
    "x_train = vectorize_sequences(train_data)\n",
    "x_test = vectorize_sequences(test_data)\n",
    "\n",
    "'''\n",
    "Recast labels as float32\n",
    "'''\n",
    "y_train = np.asarray(train_labels).astype('float32')\n",
    "y_test = np.asarray(test_labels).astype('float32')\n",
    "\n",
    "'''\n",
    "Build model, split a validation set, run 20 epochs\n",
    "'''\n",
    "from keras import models\n",
    "from keras import layers\n",
    "\n",
    "from keras import models\n",
    "from keras import layers\n",
    "\n",
    "model = models.Sequential()\n",
    "model.add(layers.Dense(16, activation='relu', input_shape=(10000,)))\n",
    "model.add(layers.Dense(16, activation='relu'))\n",
    "model.add(layers.Dense(1, activation='sigmoid'))\n",
    "model.compile(optimizer='rmsprop',\n",
    "              loss='binary_crossentropy',\n",
    "              metrics=['accuracy'])\n",
    "\n",
    "x_val = x_train[:10000]\n",
    "partial_x_train = x_train[10000:]\n",
    "y_val = y_train[:10000]\n",
    "partial_y_train = y_train[10000:]\n",
    "history = model.fit(partial_x_train,\n",
    "                    partial_y_train,\n",
    "                    epochs=20,\n",
    "                    batch_size=512,\n",
    "                    validation_data=(x_val, y_val),\n",
    "                    verbose=0)\n",
    "\n",
    "'''\n",
    "Plot the accuracy metric to check for overfit\n",
    "'''\n",
    "import matplotlib.pyplot as plt\n",
    "\n",
    "loss_values = history.history['loss']\n",
    "val_loss_values = history.history['val_loss']\n",
    "plt.plot(range(1, len(loss_values) + 1), \n",
    "         loss_values, \n",
    "         'bo', \n",
    "         label='Training loss')\n",
    "plt.plot(range(1, len(val_loss_values) + 1), \n",
    "         val_loss_values, \n",
    "         'b', \n",
    "         label='Validation loss')\n",
    "plt.legend()\n",
    "plt.show()"
   ]
  },
  {
   "cell_type": "code",
   "execution_count": 2,
   "id": "dac9468f",
   "metadata": {},
   "outputs": [
    {
     "name": "stdout",
     "output_type": "stream",
     "text": [
      "Epoch 1/4\n",
      "49/49 [==============================] - 3s 35ms/step - loss: 0.4556 - accuracy: 0.8208\n",
      "Epoch 2/4\n",
      "49/49 [==============================] - 1s 19ms/step - loss: 0.2614 - accuracy: 0.9078\n",
      "Epoch 3/4\n",
      "49/49 [==============================] - 1s 19ms/step - loss: 0.2017 - accuracy: 0.9278\n",
      "Epoch 4/4\n",
      "49/49 [==============================] - 1s 18ms/step - loss: 0.1673 - accuracy: 0.9402\n",
      "782/782 [==============================] - 3s 3ms/step - loss: 0.3458 - accuracy: 0.8626\n",
      "Accuracy: 0.862559974193573 Loss: 0.34576043486595154\n"
     ]
    }
   ],
   "source": [
    "'''\n",
    "The model begins to overfit after 4 epochs, so now train for \n",
    "4 epochs will full trainig set and evaluate on test set.\n",
    "'''\n",
    "model = models.Sequential()\n",
    "model.add(layers.Dense(16, activation='relu', input_shape=(10000,)))\n",
    "model.add(layers.Dense(16, activation='relu'))\n",
    "model.add(layers.Dense(1, activation='sigmoid'))\n",
    "model.compile(optimizer='rmsprop',\n",
    "              loss='binary_crossentropy',\n",
    "              metrics=['accuracy'])\n",
    "model.fit(x_train, y_train, epochs=4, batch_size=512)\n",
    "(test_loss, test_accuracy) = model.evaluate(x_test, y_test)\n",
    "print('Accuracy:', test_accuracy, 'Loss:', test_loss)"
   ]
  },
  {
   "cell_type": "code",
   "execution_count": 11,
   "id": "64caa239",
   "metadata": {
    "scrolled": true
   },
   "outputs": [
    {
     "name": "stdout",
     "output_type": "stream",
     "text": [
      "{'hidden_layers': 1} [0.2897002100944519, 0.8855599761009216]\n",
      "{'hidden_layers': 3} [0.3287105858325958, 0.8789200186729431]\n",
      "{'hidden_units': 8} [0.3466544449329376, 0.8654800057411194]\n",
      "{'hidden_units': 32} [0.33313536643981934, 0.8756399750709534]\n",
      "{'loss': 'mse'} [0.11117497831583023, 0.8517199754714966]\n",
      "{'activation': 'tanh'} [0.3528871536254883, 0.868399977684021]\n"
     ]
    }
   ],
   "source": [
    "from keras import models\n",
    "from keras import layers\n",
    "\n",
    "'''\n",
    "Experiment with tuning hyperparameters:\n",
    "- Try using one or three hidden layers\n",
    "- Try using layers with more hidden units or fewer hidden units\n",
    "- Try using the mse loss function instead of binary_crossentropy\n",
    "- Try using the tanh activation instead of relu\n",
    "'''\n",
    "\n",
    "def get_model(hidden_layers=2, hidden_units=16, loss='binary_crossentropy', \n",
    "              activation='relu'):\n",
    "    \"\"\"A helper function to generate and run models given some keyword arguments\"\"\"\n",
    "    model = models.Sequential()\n",
    "    for _ in range(hidden_layers):\n",
    "        model.add(layers.Dense(hidden_units, activation=activation, input_shape=(10000,)))\n",
    "        model.add(layers.Dense(hidden_units, activation=activation))\n",
    "    model.add(layers.Dense(1, activation='sigmoid'))\n",
    "    model.compile(optimizer='rmsprop',\n",
    "                  loss=loss,\n",
    "                  metrics=['accuracy'])\n",
    "    return model\n",
    "        \n",
    "tests = [{'hidden_layers': 1}, {'hidden_layers': 3}, {'hidden_units': 8}, {'hidden_units': 32}, \n",
    "         {'loss': 'mse'}, {'activation': 'tanh'}]\n",
    "for kwargs in tests:\n",
    "    model = get_model(**kwargs)\n",
    "    model.fit(x_train, y_train, epochs=4, batch_size=512, verbose=0)\n",
    "    results = model.evaluate(x_test, y_test, verbose=0)\n",
    "    print(kwargs, results)"
   ]
  },
  {
   "cell_type": "markdown",
   "id": "5b0ff87a",
   "metadata": {},
   "source": [
    "# Single-label Multiclass Classification"
   ]
  },
  {
   "cell_type": "code",
   "execution_count": 3,
   "id": "16a2280a",
   "metadata": {},
   "outputs": [
    {
     "data": {
      "image/png": "[encoded data removed]",
      "text/plain": [
       "<Figure size 432x288 with 1 Axes>"
      ]
     },
     "metadata": {
      "needs_background": "light"
     },
     "output_type": "display_data"
    }
   ],
   "source": [
    "'''\n",
    "Load news clips from Reuters dataset\n",
    "'''\n",
    "from keras.datasets import reuters\n",
    "\n",
    "(train_data, train_labels), (test_data, test_labels) = reuters.load_data(num_words=10000)\n",
    "\n",
    "'''\n",
    "Samples are a sequence of word indexes; can create a helper function\n",
    "to decode samples back into words.\n",
    "'''\n",
    "word_index = reuters.get_word_index()\n",
    "reverse_word_index = {v: k for k, v in word_index.items()}\n",
    "def decode(item):\n",
    "    return ' '.join([reverse_word_index.get(i-3, '?') for i in item])\n",
    "# print(len(train_data)) # >>> 8982\n",
    "# print(len(test_data)) # >>> 2246\n",
    "# print(train_data[0][:10]) # >>> [1, 2, 2, 8, 43, 10, 447, 5, 25, 207]\n",
    "# print(decode(train_data[0][:10])) # >>> ? ? ? said as a result of its december\n",
    "# print(train_labels[0]) # >>> 3\n",
    "\n",
    "'''\n",
    "Again, vectorize the sequences so they are of same length.\n",
    "Also convert output from an integer to a 'one-hot vector':\n",
    "e.g. '4' -> [0., 0., 0., 0., 1., 0., 0., 0., 0., 0.,]\n",
    "'''\n",
    "import numpy as np\n",
    "\n",
    "def vectorize_sequences(sequences, dimension=10000):\n",
    "    results = np.zeros((len(sequences), dimension))\n",
    "    for i, sequence in enumerate(sequences):\n",
    "        results[i, sequence] = 1.\n",
    "    return results\n",
    "\n",
    "x_train = vectorize_sequences(train_data)\n",
    "x_test = vectorize_sequences(test_data)\n",
    "\n",
    "def to_one_hot(labels, dimension=46):\n",
    "    results = np.zeros((len(labels), dimension))\n",
    "    for i, label in enumerate(labels):\n",
    "        results[i, label] = 1.\n",
    "    return results\n",
    "\n",
    "one_hot_train_labels = to_one_hot(train_labels)\n",
    "one_hot_test_labels = to_one_hot(test_labels)\n",
    "\n",
    "'''\n",
    "Build the model, split out validation set, run for 20 epochs\n",
    "'''\n",
    "from keras import models\n",
    "from keras import layers\n",
    "\n",
    "model = models.Sequential()\n",
    "model.add(layers.Dense(64, activation='relu', input_shape=(10000,)))\n",
    "model.add(layers.Dense(64, activation='relu'))\n",
    "model.add(layers.Dense(46, activation='softmax'))\n",
    "model.compile(optimizer='rmsprop',\n",
    "              loss='categorical_crossentropy',\n",
    "              metrics=['accuracy'])\n",
    "\n",
    "x_val = x_train[:1000]\n",
    "partial_x_train = x_train[1000:]\n",
    "y_val = one_hot_train_labels[:1000]\n",
    "partial_y_train = one_hot_train_labels[1000:]\n",
    "history = model.fit(partial_x_train,\n",
    "                    partial_y_train,\n",
    "                    epochs=20,\n",
    "                    batch_size=512,\n",
    "                    validation_data=(x_val, y_val),\n",
    "                    verbose=0)\n",
    "\n",
    "'''\n",
    "Check for overfit\n",
    "'''\n",
    "import matplotlib.pyplot as plt\n",
    "\n",
    "loss = history.history['loss']\n",
    "val_loss = history.history['val_loss']\n",
    "epochs = range(1, len(loss) + 1)\n",
    "plt.plot(epochs, loss, 'bo', label='Training loss')\n",
    "plt.plot(epochs, val_loss, 'b', label='Validation loss')\n",
    "plt.legend()\n",
    "plt.show()"
   ]
  },
  {
   "cell_type": "code",
   "execution_count": 4,
   "id": "0ec44ecb",
   "metadata": {
    "scrolled": true
   },
   "outputs": [
    {
     "name": "stdout",
     "output_type": "stream",
     "text": [
      "71/71 [==============================] - 0s 4ms/step - loss: 1.0963 - accuracy: 0.7845\n",
      "Accuracy: 0.7845057845115662 Loss: 1.096298098564148\n"
     ]
    }
   ],
   "source": [
    "'''\n",
    "The model begins to overfit after 9 epochs, so now train for \n",
    "9 epochs will full training set and evaluate on test set.\n",
    "'''\n",
    "model = models.Sequential()\n",
    "model.add(layers.Dense(128, activation='relu', input_shape=(10000,)))\n",
    "model.add(layers.Dense(128, activation='relu'))\n",
    "model.add(layers.Dense(46, activation='softmax'))\n",
    "\n",
    "model.compile(optimizer='rmsprop',\n",
    "              loss='categorical_crossentropy',\n",
    "              metrics=['accuracy'])\n",
    "model.fit(partial_x_train,\n",
    "          partial_y_train,\n",
    "          epochs=9,  # Overfit after about 9 epochs\n",
    "          batch_size=512,\n",
    "          validation_data=(x_val, y_val),\n",
    "          verbose=0)\n",
    "(test_loss, test_accuracy) = model.evaluate(x_test, one_hot_test_labels)\n",
    "print('Accuracy:', test_accuracy, 'Loss:', test_loss)"
   ]
  },
  {
   "cell_type": "markdown",
   "id": "121bb3c7",
   "metadata": {},
   "source": [
    "# Linear Regression"
   ]
  },
  {
   "cell_type": "code",
   "execution_count": 5,
   "id": "f3934930",
   "metadata": {},
   "outputs": [
    {
     "name": "stdout",
     "output_type": "stream",
     "text": [
      "processing fold # 0\n",
      "processing fold # 1\n",
      "processing fold # 2\n",
      "processing fold # 3\n"
     ]
    },
    {
     "data": {
      "image/png": "[encoded data removed]",
      "text/plain": [
       "<Figure size 432x288 with 1 Axes>"
      ]
     },
     "metadata": {
      "needs_background": "light"
     },
     "output_type": "display_data"
    },
    {
     "data": {
      "image/png": "[encoded data removed]",
      "text/plain": [
       "<Figure size 432x288 with 1 Axes>"
      ]
     },
     "metadata": {
      "needs_background": "light"
     },
     "output_type": "display_data"
    }
   ],
   "source": [
    "'''\n",
    "Load the boston housing data. Here we are trying to predict the \n",
    "price of a house based on several factors.\n",
    "'''\n",
    "from keras.datasets import boston_housing\n",
    "\n",
    "(train_data, train_targets), (test_data, test_targets) = boston_housing.load_data()\n",
    "# print(train_data.shape) # >>> (404, 13)\n",
    "# print(test_data.shape) # >>> (102, 13)\n",
    "# print(train_data[0]) # >>> [1.23247, 0., 8.14, 0., 0.538, 6.142...]\n",
    "\n",
    "'''\n",
    "Because different features are at very different scales (some in\n",
    "the hundreds, some decimals), we NORMALIZE all the data.\n",
    "'''\n",
    "mean = train_data.mean(axis=0) # Calculate mean of each feature\n",
    "train_data -= mean # Subtract mean for each sample\n",
    "std = train_data.std(axis=0) # Calculate stdev of each feature\n",
    "train_data /= std # Divide each sample by stdev\n",
    "\n",
    "test_data -= mean # Repeat with test data\n",
    "test_data /= std\n",
    "\n",
    "'''\n",
    "Because the training set includes few samples (404), we don't separate\n",
    "a validation set like before; instead we use K-FOLD VALIDATION:\n",
    "1. Split training data into k groups\n",
    "2. For each group i, train the model on remaining k-1 groups, then\n",
    "   validate against i.\n",
    "3. Use the average loss, accuracy and overfit time of all k groups\n",
    "\n",
    "So we make a helper function to generate the model, and then use a \n",
    "loop for the k-fold validation\n",
    "'''\n",
    "\n",
    "from keras import models\n",
    "from keras import layers\n",
    "import numpy as np\n",
    "\n",
    "def build_model():\n",
    "    model = models.Sequential()\n",
    "    model.add(layers.Dense(64, activation='relu', input_shape=(train_data.shape[1],)))\n",
    "    model.add(layers.Dense(64, activation='relu'))\n",
    "    model.add(layers.Dense(1))\n",
    "    model.compile(optimizer='rmsprop', loss='mse', metrics=['mean_absolute_error'])\n",
    "    return model\n",
    "\n",
    "k = 4\n",
    "num_val_samples = len(train_data) // k\n",
    "num_epochs = 100\n",
    "all_scores = []\n",
    "all_mae_histories = []\n",
    "\n",
    "for i in range(k):\n",
    "    print('processing fold #', i)\n",
    "    \n",
    "    # Split out validation set\n",
    "    val_data = train_data[i * num_val_samples: (i + 1) * num_val_samples]\n",
    "    val_targets = train_targets[i * num_val_samples: (i + 1) * num_val_samples]\n",
    "\n",
    "    # Split training data\n",
    "    partial_train_data = np.concatenate(\n",
    "        [train_data[:i * num_val_samples],\n",
    "         train_data[(i + 1) * num_val_samples:]],\n",
    "        axis=0)\n",
    "    partial_train_targets = np.concatenate(\n",
    "        [train_targets[:i * num_val_samples],\n",
    "         train_targets[(i + 1) * num_val_samples:]])\n",
    "    \n",
    "    model = build_model()\n",
    "    history = model.fit(partial_train_data, partial_train_targets,\n",
    "              validation_data=(val_data, val_targets),\n",
    "              epochs=num_epochs, batch_size=1, verbose=0)\n",
    "    val_mse, val_mae = model.evaluate(val_data, val_targets, verbose=0)\n",
    "    all_scores.append(val_mae)\n",
    "    mae_history = history.history['val_mean_absolute_error']\n",
    "    all_mae_histories.append(mae_history)\n",
    "\n",
    "'''\n",
    "Plot history for each k-fold\n",
    "'''\n",
    "for i, history in enumerate(all_mae_histories):\n",
    "    plt.plot(range(1, len(history) + 1), history, label=i)\n",
    "plt.legend()\n",
    "plt.show()\n",
    "\n",
    "'''\n",
    "Plot combined accuracy with smoothing, clip first 10 values\n",
    "'''\n",
    "def smooth_curve(points, factor=0.9):\n",
    "    smoothed_points = []\n",
    "    for point in points:\n",
    "        if smoothed_points:\n",
    "            previous = smoothed_points[-1]\n",
    "            smoothed_points.append(previous * factor + point * (1 - factor))\n",
    "        else:\n",
    "            smoothed_points.append(point)\n",
    "    return smoothed_points\n",
    "\n",
    "average_mae_history = [np.mean([x[i] for x in all_mae_histories]) for i in range(num_epochs)]\n",
    "smooth_mae_history = smooth_curve(average_mae_history[10:])\n",
    "plt.plot(range(1, len(smooth_mae_history) + 1), smooth_mae_history)\n",
    "plt.show()"
   ]
  },
  {
   "cell_type": "code",
   "execution_count": 6,
   "id": "40b6e9e5",
   "metadata": {},
   "outputs": [
    {
     "name": "stdout",
     "output_type": "stream",
     "text": [
      "4/4 [==============================] - 0s 2ms/step - loss: 18.2853 - mean_absolute_error: 2.7723\n",
      "Mean Average Error: 2.772348403930664\n"
     ]
    }
   ],
   "source": [
    "'''\n",
    "It looks like the overfit happens around epoch 60, so we fit the\n",
    "model for 80 epochs with the full training set, and validate against\n",
    "test set.\n",
    "'''\n",
    "model = build_model()\n",
    "model.fit(train_data, train_targets,\n",
    "          epochs=60, batch_size=16, verbose=0)\n",
    "(test_mse, test_mae) = model.evaluate(test_data, test_targets)\n",
    "print('Mean Average Error:', test_mae)"
   ]
  },
  {
   "cell_type": "code",
   "execution_count": null,
   "id": "e6837148",
   "metadata": {},
   "outputs": [],
   "source": []
  }
 ],
 "metadata": {
  "kernelspec": {
   "display_name": "Python 3 (ipykernel)",
   "language": "python",
   "name": "python3"
  },
  "language_info": {
   "codemirror_mode": {
    "name": "ipython",
    "version": 3
   },
   "file_extension": ".py",
   "mimetype": "text/x-python",
   "name": "python",
   "nbconvert_exporter": "python",
   "pygments_lexer": "ipython3",
   "version": "3.9.7"
  }
 },
 "nbformat": 4,
 "nbformat_minor": 5
}
