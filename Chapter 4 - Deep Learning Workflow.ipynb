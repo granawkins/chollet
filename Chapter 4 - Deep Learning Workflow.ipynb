{
 "cells": [
  {
   "cell_type": "markdown",
   "id": "c54e0c18",
   "metadata": {},
   "source": [
    "Machine learning algorithms fall into four categories:\n",
    "* **Supervised Learning**. The most common. Learns to map input data to known targets.\n",
    "* **Unsupervised Learning**. Finds interesting transformations of the input data wihtout targets\n",
    "* **Self-supervised Learning**. Supervised learning without human-annotated labels\n",
    "* **Reinforcement Learning**. Looks at its environment and choses action to maximize some reward"
   ]
  },
  {
   "cell_type": "markdown",
   "id": "6ffc0346",
   "metadata": {},
   "source": [
    "Evaluating ML Models:\n",
    "* Training Set - The data on which the model is trained initially\n",
    "* Validation Set - Split from Training Set, used for hyperparameter tuning\n",
    "* Test Set - Separate and untouched; used to evaluate a tuned model\n",
    "Note: Often after tuning with training/validating, the model is finally trained on both (for testing against Test Set).\n",
    "\n",
    "Validating methods\n",
    "* Hold-out validation - keep test data separate; use training & validation\n",
    "* K-fold validation - split data into k partitions of equal size; for each partition i, train model with remaining k-1 sectons and evaluate on i.\n",
    "* K-fold validation with shuffling - perform multiple k-fold validations after shuffling the training data.\n"
   ]
  },
  {
   "cell_type": "markdown",
   "id": "c3f416af",
   "metadata": {},
   "source": [
    "Data preprocessing:\n",
    "* **Vectorization**. All inputs and targets must be tensors of floating-point data. All inputs must be of equal length. One-hot encoding is a type of vectorization. \n",
    "* **Normalization**. Aim to:\n",
    "  - Take small values, ideally between 0 and 1\n",
    "  - Be homogenous, all feature values should be in roughly the same range\n",
    "  - Normalize each feature independently to have a mean of 0 and a standard deviation of 1\n",
    "* **Handling missing values**. Generally fill with '0' to mean 'missing data', unless 0 is a meaningful value elsewhere. If test data has missing values, must train with missing values!\n",
    "* **Feature engineering**. Make the problem easier by expressing it in a simpler way. Use domain knowledge to make hardcoded transformations (by hand) in the data before feeding it to the model."
   ]
  },
  {
   "cell_type": "markdown",
   "id": "0d400237",
   "metadata": {},
   "source": [
    "# How to prevent overfitting:"
   ]
  },
  {
   "cell_type": "markdown",
   "id": "3ad03335",
   "metadata": {},
   "source": [
    "### Helper Functions"
   ]
  },
  {
   "cell_type": "code",
   "execution_count": 1,
   "id": "a2ce6114",
   "metadata": {},
   "outputs": [],
   "source": [
    "from keras.datasets import imdb\n",
    "import numpy as np\n",
    "from keras import models\n",
    "from keras import layers\n",
    "\n",
    "def vectorize_sequences(sequences, dimension=10000):\n",
    "    \"\"\"Convert samples from a number to a vector that matches its index\"\"\"\n",
    "    results = np.zeros((len(sequences), dimension))\n",
    "    for i, sequence in enumerate(sequences):\n",
    "        results[i, sequence] = 1.\n",
    "    return results\n",
    "\n",
    "# Load Data\n",
    "(train_data, train_labels), (test_data, test_labels) = imdb.load_data(num_words=10000)\n",
    "\n",
    "# Preprocess: Formatting\n",
    "x_train = vectorize_sequences(train_data)\n",
    "x_test = vectorize_sequences(test_data)\n",
    "y_train = np.asarray(train_labels).astype('float32')\n",
    "y_test = np.asarray(test_labels).astype('float32')\n",
    "\n",
    "# Split Validation Set\n",
    "i_val = 10_000\n",
    "x_val = x_train[:i_val]\n",
    "partial_x_train = x_train[i_val:]\n",
    "y_val = y_train[:i_val]\n",
    "partial_y_train = y_train[i_val:]"
   ]
  },
  {
   "cell_type": "code",
   "execution_count": 18,
   "id": "567302ae",
   "metadata": {},
   "outputs": [],
   "source": [
    "from keras import models\n",
    "from keras import layers\n",
    "import matplotlib.pyplot as plt\n",
    "\n",
    "def get_model_history(hidden_layers=1, hidden_units=16, epochs=20,\n",
    "                      regularizer=None, dropout_rate=0):\n",
    "    \"\"\"Build, compile and fit a model for imdb using some kwargs\n",
    "    and return history\"\"\"\n",
    "    model = models.Sequential()\n",
    "    model.add(layers.Dense(hidden_units, activation='relu', \n",
    "                           kernel_regularizer=regularizer, \n",
    "                           input_shape=(10000,)))\n",
    "    if dropout_rate > 0:\n",
    "        model.add(layers.Dropout(dropout_rate))\n",
    "    for _ in range(hidden_layers):\n",
    "        model.add(layers.Dense(hidden_units, activation='relu',\n",
    "                               kernel_regularizer=regularizer))\n",
    "        if dropout_rate > 0:\n",
    "            model.add(layers.Dropout(dropout_rate))\n",
    "    model.add(layers.Dense(1, activation='sigmoid'))\n",
    "    model.compile(optimizer='rmsprop',\n",
    "                  loss='binary_crossentropy',\n",
    "                  metrics=['accuracy'])\n",
    "    history = model.fit(partial_x_train,\n",
    "                        partial_y_train,\n",
    "                        epochs=epochs,\n",
    "                        batch_size=512,\n",
    "                        validation_data=(x_val, y_val),\n",
    "                        verbose=0)\n",
    "    return history\n",
    "\n",
    "def execute_tests(tests, fmts=('bo', 'b+'), **kwargs):\n",
    "    \"\"\"Run models with different kwargs and plot the results\"\"\"\n",
    "    for _kwargs, fmt in zip(tests, fmts):\n",
    "        history = get_model_history(**_kwargs, **kwargs)\n",
    "        val_loss_values = history.history['val_loss']\n",
    "        plt.plot(range(1, len(val_loss_values) + 1), \n",
    "                 val_loss_values, \n",
    "                 fmt, \n",
    "                 label=str(_kwargs))\n",
    "    plt.ylabel('Validation Loss')\n",
    "    plt.legend()\n",
    "    plt.show()   "
   ]
  },
  {
   "cell_type": "markdown",
   "id": "c600e8b2",
   "metadata": {},
   "source": [
    "### Reduce Network Size"
   ]
  },
  {
   "cell_type": "code",
   "execution_count": 10,
   "id": "3374e4c5",
   "metadata": {},
   "outputs": [
    {
     "data": {
      "image/png": "[encoded data removed]",
      "text/plain": [
       "<Figure size 432x288 with 1 Axes>"
      ]
     },
     "metadata": {
      "needs_background": "light"
     },
     "output_type": "display_data"
    }
   ],
   "source": [
    "tests = [{'hidden_units': 4}, {'hidden_units': 16}]\n",
    "execute_tests(tests)"
   ]
  },
  {
   "cell_type": "code",
   "execution_count": 11,
   "id": "18527e5b",
   "metadata": {},
   "outputs": [
    {
     "data": {
      "image/png": "[encoded data removed]",
      "text/plain": [
       "<Figure size 432x288 with 1 Axes>"
      ]
     },
     "metadata": {
      "needs_background": "light"
     },
     "output_type": "display_data"
    }
   ],
   "source": [
    "tests = [{'hidden_units': 16}, {'hidden_units': 512}]\n",
    "execute_tests(tests)"
   ]
  },
  {
   "cell_type": "markdown",
   "id": "edc18e68",
   "metadata": {},
   "source": [
    "### Add Weight Regularization\n",
    "Force weights to take smaller values by imposing a cost.\n",
    "- **L1 regularization**. Cost proportional to absolute value\n",
    "- **L2 regularization, weight decay**. Cost proportional to square of value"
   ]
  },
  {
   "cell_type": "code",
   "execution_count": 17,
   "id": "c293564a",
   "metadata": {},
   "outputs": [
    {
     "data": {
      "image/png": "[encoded data removed]",
      "text/plain": [
       "<Figure size 432x288 with 1 Axes>"
      ]
     },
     "metadata": {
      "needs_background": "light"
     },
     "output_type": "display_data"
    }
   ],
   "source": [
    "from keras import regularizers\n",
    "\n",
    "tests = [{'regularizer': regularizers.l1(0.001)},\n",
    "         {'regularizer': regularizers.l1(0.001)},\n",
    "         {'regularizer': regularizers.l2(0.001)},\n",
    "         {'regularizer': regularizers.l1_l2(0.001)}]\n",
    "execute_tests(tests, ('bo', 'b+', 'b*'), epochs=10)"
   ]
  },
  {
   "cell_type": "markdown",
   "id": "6f0ffbb4",
   "metadata": {},
   "source": [
    "### Adding Dropout\n",
    "Randomly set some number of output features to 0 during training. The dropout rate is the fraction of features zeroed out. Usually 0.2-0.5. Introducing noise to the output values can break up happenstance patters that aren't significant.\n",
    "\n",
    "First method\n",
    "1. Train with dropout\n",
    "2. Test without dropout, but scale down each layer's output by dropout rate\n",
    "\n",
    "Second method\n",
    "1. Train with dropout and scale-up each layer's output during testing\n",
    "2. Test normally"
   ]
  },
  {
   "cell_type": "code",
   "execution_count": 19,
   "id": "a4ba8d31",
   "metadata": {},
   "outputs": [
    {
     "data": {
      "image/png": "[encoded data removed]",
      "text/plain": [
       "<Figure size 432x288 with 1 Axes>"
      ]
     },
     "metadata": {
      "needs_background": "light"
     },
     "output_type": "display_data"
    }
   ],
   "source": [
    "tests = [{}, {'dropout_rate': 0.2}, {'dropout_rate': 0.5}]\n",
    "execute_tests(tests, ('bo', 'b+', 'b*'), epochs=10)"
   ]
  },
  {
   "cell_type": "markdown",
   "id": "0c092744",
   "metadata": {},
   "source": [
    "# Universal Workflow of Machine Learning\n",
    "\n",
    "### 1. Define the problem and assemble a dataset\n",
    "- What is your input data? What are you trying to predict?\n",
    "- What type of problem is it: binary classification, multiclass classification, scalar regression, vector regression, multilabel multiclass classification?\n",
    "The hypothesis at this stage:\n",
    "1. Outputs can be predicted given inputs\n",
    "2. Available data is sufficiently informative to learn how\n",
    "\n",
    "### 2. Choose a measure of success\n",
    "- Balanced classification problems (every class equally likely):\n",
    "  - accuracy\n",
    "  - area under the receiver operating characteristic curve (ROC AUC)\n",
    "- Ranking Problems, multilabel classification:\n",
    "  - average mean precision\n",
    "\n",
    "### 3. Decide on an evaluation protocol\n",
    "- Hold-out\n",
    "- K-fold\n",
    "- Iterated k-fold\n",
    "\n",
    "### 4. Prepare data\n",
    "- as tensors\n",
    "- scale to [0, 1] or [-1, 1]\n",
    "- normalize\n",
    "- feature engineering\n",
    "\n",
    "### 5. Develop a model that does better tahn a baseline\n",
    "Three key choices:\n",
    "1. Last-layer activation (sigmoid, softmax, none(regression))\n",
    "2. Loss function (binary_crossentropy, categorical_crossentropy, mse)\n",
    "3. Optimization configuration (normally 'rmsprop', default learning rate)\n",
    "\n",
    "### 6. Develop a model that overfits\n",
    "1. Add layers\n",
    "2. Make the layers bigger\n",
    "3. Train for more epochs\n",
    "\n",
    "### 7. Regularize model, tune hyperparameters\n",
    "- Add dropout\n",
    "- Add or remove layers\n",
    "- Add L1 and/or L2 regularization\n",
    "- Try different hyperparameters: units per layer, learning rate\n",
    "- Add new features, remove features\n",
    "\n",
    "### 8. Fit with all traning data, Evaluate against test set"
   ]
  },
  {
   "cell_type": "code",
   "execution_count": null,
   "id": "85a157de",
   "metadata": {},
   "outputs": [],
   "source": []
  }
 ],
 "metadata": {
  "kernelspec": {
   "display_name": "Python 3 (ipykernel)",
   "language": "python",
   "name": "python3"
  },
  "language_info": {
   "codemirror_mode": {
    "name": "ipython",
    "version": 3
   },
   "file_extension": ".py",
   "mimetype": "text/x-python",
   "name": "python",
   "nbconvert_exporter": "python",
   "pygments_lexer": "ipython3",
   "version": "3.9.7"
  }
 },
 "nbformat": 4,
 "nbformat_minor": 5
}
