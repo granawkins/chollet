{
 "cells": [
  {
   "cell_type": "code",
   "execution_count": 2,
   "id": "27670547",
   "metadata": {},
   "outputs": [
    {
     "name": "stdout",
     "output_type": "stream",
     "text": [
      "Model: \"sequential\"\n",
      "_________________________________________________________________\n",
      " Layer (type)                Output Shape              Param #   \n",
      "=================================================================\n",
      " embed (Embedding)           (None, 500, 128)          256000    \n",
      "                                                                 \n",
      " conv1d (Conv1D)             (None, 494, 32)           28704     \n",
      "                                                                 \n",
      " max_pooling1d (MaxPooling1D  (None, 98, 32)           0         \n",
      " )                                                               \n",
      "                                                                 \n",
      " conv1d_1 (Conv1D)           (None, 92, 32)            7200      \n",
      "                                                                 \n",
      " global_max_pooling1d (Globa  (None, 32)               0         \n",
      " lMaxPooling1D)                                                  \n",
      "                                                                 \n",
      " dense (Dense)               (None, 1)                 33        \n",
      "                                                                 \n",
      "=================================================================\n",
      "Total params: 291,937\n",
      "Trainable params: 291,937\n",
      "Non-trainable params: 0\n",
      "_________________________________________________________________\n"
     ]
    },
    {
     "name": "stderr",
     "output_type": "stream",
     "text": [
      "2022-03-22 10:34:50.501830: I tensorflow/core/platform/cpu_feature_guard.cc:151] This TensorFlow binary is optimized with oneAPI Deep Neural Network Library (oneDNN) to use the following CPU instructions in performance-critical operations:  AVX2 FMA\n",
      "To enable them in other operations, rebuild TensorFlow with the appropriate compiler flags.\n"
     ]
    }
   ],
   "source": [
    "import keras\n",
    "from keras import layers\n",
    "from keras.datasets import imdb\n",
    "from keras.preprocessing import sequence\n",
    "\n",
    "max_features = 2000\n",
    "max_len = 500\n",
    "\n",
    "(x_train, y_train), (x_test, y_test) = imdb.load_data(num_words=max_features)\n",
    "x_train = sequence.pad_sequences(x_train, maxlen=max_len)\n",
    "x_test = sequence.pad_sequences(x_test, maxlen=max_len)\n",
    "\n",
    "model = keras.models.Sequential()\n",
    "model.add(layers.Embedding(max_features, 128,\n",
    "                           input_length=max_len,\n",
    "                           name='embed'))\n",
    "model.add(layers.Conv1D(32, 7, activation='relu'))\n",
    "model.add(layers.MaxPooling1D(5))\n",
    "model.add(layers.Conv1D(32, 7, activation='relu'))\n",
    "model.add(layers.GlobalMaxPooling1D())\n",
    "model.add(layers.Dense(1))\n",
    "model.summary()"
   ]
  },
  {
   "cell_type": "code",
   "execution_count": 4,
   "id": "5be4c473",
   "metadata": {},
   "outputs": [
    {
     "name": "stdout",
     "output_type": "stream",
     "text": [
      "Epoch 1/5\n",
      "157/157 [==============================] - 66s 416ms/step - loss: 0.5126 - acc: 0.7816 - val_loss: 0.4240 - val_acc: 0.8516\n",
      "Epoch 2/5\n",
      "157/157 [==============================] - 58s 367ms/step - loss: 0.4493 - acc: 0.8597 - val_loss: 0.5341 - val_acc: 0.8222\n",
      "Epoch 3/5\n",
      "157/157 [==============================] - 58s 369ms/step - loss: 0.3784 - acc: 0.8944 - val_loss: 0.5457 - val_acc: 0.8572\n",
      "Epoch 4/5\n",
      "157/157 [==============================] - 51s 326ms/step - loss: 0.3168 - acc: 0.9120 - val_loss: 0.5735 - val_acc: 0.8578\n",
      "Epoch 5/5\n",
      "157/157 [==============================] - 61s 388ms/step - loss: 0.2769 - acc: 0.9298 - val_loss: 0.6360 - val_acc: 0.8616\n"
     ]
    }
   ],
   "source": [
    "model.compile(optimizer='rmsprop',\n",
    "              loss='binary_crossentropy',\n",
    "              metrics=['acc'])\n",
    "callbacks = [\n",
    "    keras.callbacks.TensorBoard(\n",
    "        log_dir='my_log_dir',\n",
    "        histogram_freq=1,\n",
    "        embeddings_freq=1,\n",
    "    )\n",
    "]\n",
    "history = model.fit(x_train, y_train,\n",
    "                    epochs=5,\n",
    "                    batch_size=128,\n",
    "                    validation_split=0.2,\n",
    "                    callbacks=callbacks)"
   ]
  },
  {
   "cell_type": "markdown",
   "id": "f9492aef",
   "metadata": {},
   "source": [
    "# Advanced Architecture\n",
    "\n",
    "### Residual Connections\n",
    "Re-inject data from earlier in the pipeline at a later stage.\n",
    "\n",
    "### Batch Normalization\n",
    "Make different samples more similar to each other and easier to learn/generalize.\n",
    "\n",
    "Basic method:\n",
    "1. Center on 0 by subtracting mean\n",
    "2. Scale units by dividing by stdev\n",
    "\n",
    "Ideally, data should be normalized after each *layer*. The \n",
    "`BatchNormalization()` layer does this, and keeps an \n",
    "exponential moving average of the batch-wise mean and variance\n",
    "seen during training. It takes an `axis` argument, which by\n",
    "default is -1.\n",
    "```\n",
    "conv_model.add(layers.Conv2D(32, 3, activation='relu'))\n",
    "conv_model.add(layers.BatchNormalization())\n",
    "\n",
    "conv_model.add(layers.Dense(32, activation='relu'))\n",
    "conv_model.add(layers.BatchNormalization())\n",
    "```\n",
    "\n",
    "### Depthwise Separable Convolution\n",
    "Break input into channels and build convolutions *by channel*.\n",
    "Smaller, faster and often higher-performing than regular convnet.\n",
    "```\n",
    "model.add(layers.SeparableConv2D(64, 3, activation='relu'))\n",
    "model.add(layers.MaxPooling2D())\n",
    "```"
   ]
  },
  {
   "cell_type": "markdown",
   "id": "9c3792b3",
   "metadata": {},
   "source": [
    "# Hyperparameter Optimization\n"
   ]
  }
 ],
 "metadata": {
  "kernelspec": {
   "display_name": "Python 3 (ipykernel)",
   "language": "python",
   "name": "python3"
  },
  "language_info": {
   "codemirror_mode": {
    "name": "ipython",
    "version": 3
   },
   "file_extension": ".py",
   "mimetype": "text/x-python",
   "name": "python",
   "nbconvert_exporter": "python",
   "pygments_lexer": "ipython3",
   "version": "3.9.7"
  }
 },
 "nbformat": 4,
 "nbformat_minor": 5
}
